{
 "cells": [
  {
   "cell_type": "markdown",
   "id": "8009f8cc",
   "metadata": {},
   "source": [
    "# Traffic Signs Recognition"
   ]
  },
  {
   "cell_type": "code",
   "execution_count": 13,
   "id": "27bf9e1a",
   "metadata": {},
   "outputs": [
    {
     "name": "stdout",
     "output_type": "stream",
     "text": [
      "Requirement already satisfied: pydot in /Users/test/opt/anaconda3/lib/python3.9/site-packages (1.4.2)\n",
      "Requirement already satisfied: pyparsing>=2.1.4 in /Users/test/opt/anaconda3/lib/python3.9/site-packages (from pydot) (3.0.4)\n",
      "Requirement already satisfied: pydot_ng in /Users/test/opt/anaconda3/lib/python3.9/site-packages (2.0.0)\n",
      "Requirement already satisfied: pyparsing>=2.0.1 in /Users/test/opt/anaconda3/lib/python3.9/site-packages (from pydot_ng) (3.0.4)\n",
      "Requirement already satisfied: graphviz in /Users/test/opt/anaconda3/lib/python3.9/site-packages (0.20)\n",
      "Requirement already satisfied: plot_model in /Users/test/opt/anaconda3/lib/python3.9/site-packages (0.20)\n"
     ]
    }
   ],
   "source": [
    "import numpy as np\n",
    "import pandas as pd\n",
    "import matplotlib.pyplot as plt\n",
    "import tensorflow as tf\n",
    "import keras\n",
    "from PIL import Image\n",
    "import cv2\n",
    "import os\n",
    "from sklearn.model_selection import train_test_split\n",
    "from keras.utils import to_categorical\n",
    "from keras.models import Sequential\n",
    "#from keras.layers import Conv2D, MaxPooling2D, Dense, Flatten, Dropout\n",
    "from tensorflow import keras\n",
    "from tensorflow.keras.models import Sequential, Model\n",
    "from tensorflow.keras.layers import Input, Flatten, Activation, Dense, Dropout, Conv2D, MaxPooling2D, ZeroPadding2D, BatchNormalization, GlobalAveragePooling2D\n",
    "from tensorflow.keras.optimizers import Adam\n",
    "from tensorflow.keras.utils import plot_model\n",
    "import warnings\n",
    "import glob\n",
    "\n",
    "!pip install pydot\n",
    "!pip install pydot_ng\n",
    "!pip install graphviz\n",
    "!pip install plot_model\n",
    "import pydot\n",
    "import pydot_ng\n",
    "import graphviz\n",
    "from plot_model import plot_model\n",
    "\n",
    "from sklearn.metrics import accuracy_score\n",
    "import pandas as pd\n",
    "\n",
    "warnings.filterwarnings('ignore')"
   ]
  },
  {
   "cell_type": "markdown",
   "id": "0ab4b681",
   "metadata": {},
   "source": [
    "### Exploring dataset"
   ]
  },
  {
   "cell_type": "markdown",
   "id": "8b6852c4",
   "metadata": {},
   "source": [
    "##### Save all filenames and labels in a list"
   ]
  },
  {
   "cell_type": "code",
   "execution_count": 39,
   "id": "b89336b2",
   "metadata": {},
   "outputs": [
    {
     "name": "stdout",
     "output_type": "stream",
     "text": [
      "/Users/test/Documents/Projecten/Project verkeersborden\n"
     ]
    }
   ],
   "source": [
    "data1 = []\n",
    "labels1 = []\n",
    "all_classes = 43\n",
    "cur_path = os.getcwd()\n",
    "path_to_files = []\n",
    "print(cur_path)"
   ]
  },
  {
   "cell_type": "code",
   "execution_count": 44,
   "id": "edcc43b8",
   "metadata": {},
   "outputs": [],
   "source": [
    "for i in range(all_classes):\n",
    "    path_to_files.append(os.path.join(cur_path, \"archive\", \"Train\", str(i)))\n",
    "    ext = ('.png')\n",
    "    for path in path_to_files:\n",
    "        with os.scandir(path) as itr:\n",
    "            for entry in itr:\n",
    "                if entry.path.endswith(ext):\n",
    "                    data1.append(entry.name)\n",
    "                    labels1.append(i)"
   ]
  },
  {
   "cell_type": "code",
   "execution_count": 46,
   "id": "9f230373",
   "metadata": {},
   "outputs": [
    {
     "name": "stdout",
     "output_type": "stream",
     "text": [
      "['00000_00005_00023.png', '00000_00006_00017.png', '00000_00006_00003.png', '00000_00003_00018.png', '00000_00003_00024.png']\n",
      "[0, 0, 0, 0, 0]\n"
     ]
    }
   ],
   "source": [
    "print(data1[:5])\n",
    "print(labels1[:5])"
   ]
  },
  {
   "cell_type": "markdown",
   "id": "23f07846",
   "metadata": {},
   "source": [
    "##### Save all numpy nd arrays of images and labels in a list"
   ]
  },
  {
   "cell_type": "code",
   "execution_count": 2,
   "id": "270f358b",
   "metadata": {},
   "outputs": [
    {
     "name": "stdout",
     "output_type": "stream",
     "text": [
      "/Users/test/Documents/Projecten/Project verkeersborden\n"
     ]
    }
   ],
   "source": [
    "data = []\n",
    "labels = []\n",
    "all_classes = 43\n",
    "cur_path = os.getcwd()\n",
    "RESIZE = (30,30)\n",
    "print(cur_path)"
   ]
  },
  {
   "cell_type": "code",
   "execution_count": 3,
   "id": "1e482b8b",
   "metadata": {},
   "outputs": [],
   "source": [
    "train_images = []\n",
    "valid_images = [\".png\"]\n",
    "for i in range(all_classes):\n",
    "    path = os.path.join(cur_path, 'archive', 'Train', str(i))\n",
    "    images = os.listdir(path)\n",
    "    for image in images:\n",
    "        try:\n",
    "            ext = os.path.splitext(image)[1]\n",
    "            if ext.lower() not in valid_images:\n",
    "                continue\n",
    "            foto = Image.open(os.path.join(path,image))\n",
    "            foto = foto.resize(RESIZE)\n",
    "            foto = np.array(foto)\n",
    "            train_images.append(foto)\n",
    "            labels.append(i)\n",
    "        except:\n",
    "            print(\"Can't open image\")\n",
    "        \n",
    "train_images = np.array(train_images)\n",
    "labels = np.array(labels)"
   ]
  },
  {
   "cell_type": "code",
   "execution_count": 4,
   "id": "61df6f86",
   "metadata": {},
   "outputs": [
    {
     "name": "stdout",
     "output_type": "stream",
     "text": [
      "[[[[186 164 164]\n",
      "   [172 127 106]\n",
      "   [172 119  85]\n",
      "   ...\n",
      "   [179 122  88]\n",
      "   [182 130  93]\n",
      "   [182 127  94]]\n",
      "\n",
      "  [[173 151 137]\n",
      "   [160 114  89]\n",
      "   [166 116  84]\n",
      "   ...\n",
      "   [168 122  89]\n",
      "   [168 126  93]\n",
      "   [167 124  94]]\n",
      "\n",
      "  [[178 155 148]\n",
      "   [176 148 135]\n",
      "   [181 146 136]\n",
      "   ...\n",
      "   [171 158 149]\n",
      "   [173 159 149]\n",
      "   [174 161 151]]\n",
      "\n",
      "  ...\n",
      "\n",
      "  [[ 91  94 100]\n",
      "   [ 91  92  95]\n",
      "   [ 91  94  90]\n",
      "   ...\n",
      "   [101 100  96]\n",
      "   [107 101  98]\n",
      "   [110 102  97]]\n",
      "\n",
      "  [[ 99 100 105]\n",
      "   [ 97  98  98]\n",
      "   [ 96 100  98]\n",
      "   ...\n",
      "   [100 101  94]\n",
      "   [107 106 102]\n",
      "   [117 112 107]]\n",
      "\n",
      "  [[102 105 100]\n",
      "   [104 106 101]\n",
      "   [102 102 100]\n",
      "   ...\n",
      "   [103 102  98]\n",
      "   [106 108 104]\n",
      "   [108 109 106]]]\n",
      "\n",
      "\n",
      " [[[133 150  86]\n",
      "   [122 142  75]\n",
      "   [118 139  74]\n",
      "   ...\n",
      "   [109 119  72]\n",
      "   [104 109  67]\n",
      "   [111 111  77]]\n",
      "\n",
      "  [[117 137  75]\n",
      "   [123 144  77]\n",
      "   [125 143  80]\n",
      "   ...\n",
      "   [107 119  69]\n",
      "   [101 108  63]\n",
      "   [100 102  64]]\n",
      "\n",
      "  [[108 131  73]\n",
      "   [114 136  76]\n",
      "   [114 132  78]\n",
      "   ...\n",
      "   [115 125  75]\n",
      "   [105 117  68]\n",
      "   [ 99 114  72]]\n",
      "\n",
      "  ...\n",
      "\n",
      "  [[ 76  87 106]\n",
      "   [ 52  42  51]\n",
      "   [ 39  35  45]\n",
      "   ...\n",
      "   [ 59  62  56]\n",
      "   [ 61  63  52]\n",
      "   [ 63  64  51]]\n",
      "\n",
      "  [[ 31  31  35]\n",
      "   [ 31  31  35]\n",
      "   [ 30  30  35]\n",
      "   ...\n",
      "   [ 38  41  40]\n",
      "   [ 52  52  48]\n",
      "   [ 62  59  54]]\n",
      "\n",
      "  [[ 58  61  55]\n",
      "   [ 60  60  55]\n",
      "   [ 55  55  51]\n",
      "   ...\n",
      "   [ 49  52  53]\n",
      "   [ 62  58  55]\n",
      "   [ 66  58  52]]]\n",
      "\n",
      "\n",
      " [[[ 94  73  67]\n",
      "   [ 82  70  63]\n",
      "   [ 78  69  65]\n",
      "   ...\n",
      "   [ 53  48  43]\n",
      "   [ 56  49  42]\n",
      "   [ 58  52  40]]\n",
      "\n",
      "  [[ 87  74  66]\n",
      "   [ 87  77  68]\n",
      "   [ 86  78  71]\n",
      "   ...\n",
      "   [ 53  47  40]\n",
      "   [ 55  46  39]\n",
      "   [ 57  49  39]]\n",
      "\n",
      "  [[ 92  82  71]\n",
      "   [ 92  87  70]\n",
      "   [ 91  89  63]\n",
      "   ...\n",
      "   [ 55  47  37]\n",
      "   [ 57  48  38]\n",
      "   [ 50  40  32]]\n",
      "\n",
      "  ...\n",
      "\n",
      "  [[255 255 238]\n",
      "   [242 208 179]\n",
      "   [138  93  87]\n",
      "   ...\n",
      "   [ 55  52  48]\n",
      "   [ 64  60  56]\n",
      "   [ 62  57  50]]\n",
      "\n",
      "  [[254 255 244]\n",
      "   [226 199 174]\n",
      "   [124  92  91]\n",
      "   ...\n",
      "   [ 50  46  43]\n",
      "   [ 58  54  52]\n",
      "   [ 58  55  50]]\n",
      "\n",
      "  [[228 233 224]\n",
      "   [187 181 160]\n",
      "   [100  94  92]\n",
      "   ...\n",
      "   [ 50  45  42]\n",
      "   [ 57  52  48]\n",
      "   [ 62  56  51]]]\n",
      "\n",
      "\n",
      " [[[ 76  63  69]\n",
      "   [ 73  65  68]\n",
      "   [ 72  64  68]\n",
      "   ...\n",
      "   [ 27  27  24]\n",
      "   [ 27  27  26]\n",
      "   [ 23  25  24]]\n",
      "\n",
      "  [[ 73  74  80]\n",
      "   [ 84  76  79]\n",
      "   [ 85  78  78]\n",
      "   ...\n",
      "   [ 51  47  44]\n",
      "   [ 54  50  48]\n",
      "   [ 55  52  50]]\n",
      "\n",
      "  [[ 72  82  88]\n",
      "   [132 116 120]\n",
      "   [139 125 124]\n",
      "   ...\n",
      "   [ 72  68  66]\n",
      "   [ 72  69  67]\n",
      "   [ 73  71  70]]\n",
      "\n",
      "  ...\n",
      "\n",
      "  [[178 171 169]\n",
      "   [179 174 174]\n",
      "   [182 176 177]\n",
      "   ...\n",
      "   [163 160 161]\n",
      "   [156 155 158]\n",
      "   [164 157 160]]\n",
      "\n",
      "  [[178 170 171]\n",
      "   [181 175 175]\n",
      "   [182 177 174]\n",
      "   ...\n",
      "   [128 133 136]\n",
      "   [109 120 127]\n",
      "   [134 137 144]]\n",
      "\n",
      "  [[181 172 172]\n",
      "   [182 175 173]\n",
      "   [182 177 171]\n",
      "   ...\n",
      "   [ 92 108 114]\n",
      "   [ 85 102 105]\n",
      "   [108 122 124]]]\n",
      "\n",
      "\n",
      " [[[119 116 116]\n",
      "   [117 116 117]\n",
      "   [118 115 115]\n",
      "   ...\n",
      "   [ 70  67  67]\n",
      "   [ 70  67  68]\n",
      "   [ 71  70  69]]\n",
      "\n",
      "  [[144 147 148]\n",
      "   [147 147 147]\n",
      "   [148 147 150]\n",
      "   ...\n",
      "   [104 104 103]\n",
      "   [101 100 102]\n",
      "   [100 100 101]]\n",
      "\n",
      "  [[146 150 154]\n",
      "   [150 150 155]\n",
      "   [150 150 154]\n",
      "   ...\n",
      "   [145 147 150]\n",
      "   [143 146 151]\n",
      "   [143 144 149]]\n",
      "\n",
      "  ...\n",
      "\n",
      "  [[166 170 171]\n",
      "   [165 169 176]\n",
      "   [163 167 173]\n",
      "   ...\n",
      "   [157 159 168]\n",
      "   [156 158 164]\n",
      "   [156 159 164]]\n",
      "\n",
      "  [[164 168 169]\n",
      "   [166 168 172]\n",
      "   [165 169 172]\n",
      "   ...\n",
      "   [159 158 165]\n",
      "   [156 158 162]\n",
      "   [154 156 158]]\n",
      "\n",
      "  [[166 170 174]\n",
      "   [166 168 171]\n",
      "   [169 170 172]\n",
      "   ...\n",
      "   [152 156 160]\n",
      "   [133 142 148]\n",
      "   [115 131 138]]]]\n",
      "[0 0 0 0 0]\n"
     ]
    }
   ],
   "source": [
    "print(train_images[:5])\n",
    "print(labels[:5])"
   ]
  },
  {
   "cell_type": "code",
   "execution_count": 5,
   "id": "372cc086",
   "metadata": {
    "scrolled": true
   },
   "outputs": [
    {
     "name": "stdout",
     "output_type": "stream",
     "text": [
      "(39209, 30, 30, 3)\n",
      "(39209,)\n"
     ]
    }
   ],
   "source": [
    "print(train_images.shape)\n",
    "print(labels.shape)"
   ]
  },
  {
   "cell_type": "code",
   "execution_count": 6,
   "id": "d08dcd4e",
   "metadata": {},
   "outputs": [
    {
     "name": "stdout",
     "output_type": "stream",
     "text": [
      "(31367, 30, 30, 3) (7842, 30, 30, 3) (31367,) (7842,)\n"
     ]
    }
   ],
   "source": [
    "X_train, X_test, y_train, y_test = train_test_split(train_images, labels, test_size=0.2, random_state=42)\n",
    "print(X_train.shape, X_test.shape, y_train.shape, y_test.shape)"
   ]
  },
  {
   "cell_type": "code",
   "execution_count": 7,
   "id": "8f9ba5e2",
   "metadata": {},
   "outputs": [],
   "source": [
    "y_train = to_categorical(y_train, 43)\n",
    "y_test = to_categorical(y_test, 43)"
   ]
  },
  {
   "cell_type": "markdown",
   "id": "1443b2d3",
   "metadata": {},
   "source": [
    "### CNN"
   ]
  },
  {
   "cell_type": "code",
   "execution_count": 8,
   "id": "307c2cb6",
   "metadata": {
    "scrolled": true
   },
   "outputs": [
    {
     "name": "stderr",
     "output_type": "stream",
     "text": [
      "2022-07-28 13:55:21.075010: I tensorflow/core/platform/cpu_feature_guard.cc:193] This TensorFlow binary is optimized with oneAPI Deep Neural Network Library (oneDNN) to use the following CPU instructions in performance-critical operations:  AVX2 FMA\n",
      "To enable them in other operations, rebuild TensorFlow with the appropriate compiler flags.\n"
     ]
    }
   ],
   "source": [
    "model = Sequential()\n",
    "model.add(Conv2D(filters=32, kernel_size=(5,5), activation='relu', input_shape=(30,30,3)))\n",
    "model.add(Conv2D(filters=32, kernel_size=(5,5), activation='relu'))\n",
    "model.add(MaxPooling2D(pool_size=(2,2)))\n",
    "model.add(Dropout(rate=0.25))\n",
    "model.add(Conv2D(filters=64, kernel_size=(3,3), activation='relu'))\n",
    "model.add(Conv2D(filters=32, kernel_size=(5,5), activation='relu'))\n",
    "model.add(MaxPooling2D(pool_size=(2,2)))\n",
    "model.add(Dropout(rate=0.25))\n",
    "model.add(Flatten())\n",
    "model.add(Dense(256, activation='relu'))\n",
    "model.add(Dropout(rate=0.5))\n",
    "model.add(Dense(43, activation='softmax'))\n",
    "          \n",
    "model.compile(loss='categorical_crossentropy', optimizer='adam', metrics=['accuracy'])"
   ]
  },
  {
   "cell_type": "code",
   "execution_count": 9,
   "id": "61268726",
   "metadata": {},
   "outputs": [
    {
     "name": "stdout",
     "output_type": "stream",
     "text": [
      "Epoch 1/15\n",
      "491/491 [==============================] - 95s 189ms/step - loss: 2.9923 - accuracy: 0.2342 - val_loss: 1.6080 - val_accuracy: 0.5599\n",
      "Epoch 2/15\n",
      "491/491 [==============================] - 93s 189ms/step - loss: 1.5060 - accuracy: 0.5655 - val_loss: 0.6088 - val_accuracy: 0.8409\n",
      "Epoch 3/15\n",
      "491/491 [==============================] - 93s 190ms/step - loss: 0.8612 - accuracy: 0.7438 - val_loss: 0.3348 - val_accuracy: 0.9148\n",
      "Epoch 4/15\n",
      "491/491 [==============================] - 89s 181ms/step - loss: 0.5488 - accuracy: 0.8412 - val_loss: 0.1728 - val_accuracy: 0.9621\n",
      "Epoch 5/15\n",
      "491/491 [==============================] - 91s 184ms/step - loss: 0.3971 - accuracy: 0.8890 - val_loss: 0.1275 - val_accuracy: 0.9658\n",
      "Epoch 6/15\n",
      "491/491 [==============================] - 52s 105ms/step - loss: 0.3431 - accuracy: 0.9041 - val_loss: 0.0966 - val_accuracy: 0.9787\n",
      "Epoch 7/15\n",
      "491/491 [==============================] - 59s 121ms/step - loss: 0.2845 - accuracy: 0.9211 - val_loss: 0.0594 - val_accuracy: 0.9865\n",
      "Epoch 8/15\n",
      "491/491 [==============================] - 81s 164ms/step - loss: 0.2299 - accuracy: 0.9374 - val_loss: 0.0637 - val_accuracy: 0.9842\n",
      "Epoch 9/15\n",
      "491/491 [==============================] - 61s 124ms/step - loss: 0.2177 - accuracy: 0.9413 - val_loss: 0.0763 - val_accuracy: 0.9833\n",
      "Epoch 10/15\n",
      "491/491 [==============================] - 64s 131ms/step - loss: 0.2083 - accuracy: 0.9462 - val_loss: 0.0793 - val_accuracy: 0.9825\n",
      "Epoch 11/15\n",
      "491/491 [==============================] - 62s 125ms/step - loss: 0.1794 - accuracy: 0.9527 - val_loss: 0.0602 - val_accuracy: 0.9841\n",
      "Epoch 12/15\n",
      "491/491 [==============================] - 65s 132ms/step - loss: 0.1705 - accuracy: 0.9532 - val_loss: 0.0633 - val_accuracy: 0.9838\n",
      "Epoch 13/15\n",
      "491/491 [==============================] - 69s 141ms/step - loss: 0.1584 - accuracy: 0.9582 - val_loss: 0.0674 - val_accuracy: 0.9844\n",
      "Epoch 14/15\n",
      "491/491 [==============================] - 73s 148ms/step - loss: 0.1740 - accuracy: 0.9557 - val_loss: 0.0384 - val_accuracy: 0.9911\n",
      "Epoch 15/15\n",
      "491/491 [==============================] - 89s 181ms/step - loss: 0.1448 - accuracy: 0.9622 - val_loss: 0.0330 - val_accuracy: 0.9922\n"
     ]
    }
   ],
   "source": [
    "n_epochs = 15\n",
    "\n",
    "history = model.fit(X_train, y_train, batch_size=64, epochs=n_epochs, validation_data=(X_test, y_test))"
   ]
  },
  {
   "cell_type": "code",
   "execution_count": 10,
   "id": "7abbffac",
   "metadata": {},
   "outputs": [
    {
     "name": "stdout",
     "output_type": "stream",
     "text": [
      "You must install pydot (`pip install pydot`) and install graphviz (see instructions at https://graphviz.gitlab.io/download/) for plot_model/model_to_dot to work.\n"
     ]
    }
   ],
   "source": [
    "tf.keras.utils.plot_model(model, to_file = 'model_plot.jpg', show_shapes=True)"
   ]
  },
  {
   "cell_type": "code",
   "execution_count": 12,
   "id": "6bca2e0a",
   "metadata": {},
   "outputs": [
    {
     "name": "stdout",
     "output_type": "stream",
     "text": [
      "Model: \"sequential\"\n",
      "_________________________________________________________________\n",
      " Layer (type)                Output Shape              Param #   \n",
      "=================================================================\n",
      " conv2d (Conv2D)             (None, 26, 26, 32)        2432      \n",
      "                                                                 \n",
      " conv2d_1 (Conv2D)           (None, 22, 22, 32)        25632     \n",
      "                                                                 \n",
      " max_pooling2d (MaxPooling2D  (None, 11, 11, 32)       0         \n",
      " )                                                               \n",
      "                                                                 \n",
      " dropout (Dropout)           (None, 11, 11, 32)        0         \n",
      "                                                                 \n",
      " conv2d_2 (Conv2D)           (None, 9, 9, 64)          18496     \n",
      "                                                                 \n",
      " conv2d_3 (Conv2D)           (None, 5, 5, 32)          51232     \n",
      "                                                                 \n",
      " max_pooling2d_1 (MaxPooling  (None, 2, 2, 32)         0         \n",
      " 2D)                                                             \n",
      "                                                                 \n",
      " dropout_1 (Dropout)         (None, 2, 2, 32)          0         \n",
      "                                                                 \n",
      " flatten (Flatten)           (None, 128)               0         \n",
      "                                                                 \n",
      " dense (Dense)               (None, 256)               33024     \n",
      "                                                                 \n",
      " dropout_2 (Dropout)         (None, 256)               0         \n",
      "                                                                 \n",
      " dense_1 (Dense)             (None, 43)                11051     \n",
      "                                                                 \n",
      "=================================================================\n",
      "Total params: 141,867\n",
      "Trainable params: 141,867\n",
      "Non-trainable params: 0\n",
      "_________________________________________________________________\n"
     ]
    }
   ],
   "source": [
    "model.summary()"
   ]
  },
  {
   "cell_type": "code",
   "execution_count": 11,
   "id": "589451e1",
   "metadata": {},
   "outputs": [
    {
     "data": {
      "text/plain": [
       "<matplotlib.legend.Legend at 0x7fc45eee8760>"
      ]
     },
     "execution_count": 11,
     "metadata": {},
     "output_type": "execute_result"
    },
    {
     "data": {
      "image/png": "[encoded data removed]",
      "text/plain": [
       "<Figure size 432x288 with 1 Axes>"
      ]
     },
     "metadata": {
      "needs_background": "light"
     },
     "output_type": "display_data"
    },
    {
     "data": {
      "image/png": "[encoded data removed]",
      "text/plain": [
       "<Figure size 432x288 with 1 Axes>"
      ]
     },
     "metadata": {
      "needs_background": "light"
     },
     "output_type": "display_data"
    }
   ],
   "source": [
    "plt.figure(0)\n",
    "plt.plot(history.history['accuracy'], label = 'training accuracy')\n",
    "plt.plot(history.history['val_accuracy'], label = 'val accuracy')\n",
    "plt.title('Accuracy')\n",
    "plt.xlabel('epochs')\n",
    "plt.ylabel('accuracy')\n",
    "plt.legend()\n",
    "\n",
    "plt.figure(1)\n",
    "plt.plot(history.history['loss'], label = 'training loss')\n",
    "plt.plot(history.history['val_loss'], label = 'val loss')\n",
    "plt.title('Loss')\n",
    "plt.xlabel('epochs')\n",
    "plt.ylabel('accuracy')\n",
    "plt.legend()"
   ]
  },
  {
   "cell_type": "code",
   "execution_count": 16,
   "id": "7eeeaba0",
   "metadata": {},
   "outputs": [],
   "source": [
    "y_test_data = pd.read_csv(os.path.join(\"archive\", \"Test.csv\"))"
   ]
  },
  {
   "cell_type": "markdown",
   "id": "8a858679",
   "metadata": {},
   "source": [
    "### Accuracy score on unseen data (95,32%)"
   ]
  },
  {
   "cell_type": "code",
   "execution_count": null,
   "id": "3c7e4f2e",
   "metadata": {
    "scrolled": true
   },
   "outputs": [],
   "source": [
    "labels_test = y_test_data['ClassId'].values\n",
    "test_images = y_test_data['Path'].values\n",
    "\n",
    "data_test = []\n",
    "valid_test_images = [\".png\"]\n",
    "\n",
    "path_test = os.path.join('archive', 'Test')\n",
    "images_test = os.listdir(path)\n",
    "for img_test in test_images:\n",
    "        try:\n",
    "            ext = os.path.splitext(image)[1]\n",
    "            if ext.lower() not in valid_test_images:\n",
    "                continue\n",
    "            foto_test = Image.open(os.path.join(path,image))\n",
    "            foto_test = foto.resize(RESIZE)\n",
    "            foto_test = np.array(foto)\n",
    "            data_test.append(np.array(foto_test))\n",
    "        except:\n",
    "            print(\"Can't open image\")\n",
    "\n",
    "data_test = np.array(data_test)\n",
    "\n",
    "predictions = model.predict(data_test)\n",
    "\n",
    "# Accuracy\n",
    "\n",
    "accuracy_score(labels_test, predictions)"
   ]
  }
 ],
 "metadata": {
  "kernelspec": {
   "display_name": "Python 3 (ipykernel)",
   "language": "python",
   "name": "python3"
  },
  "language_info": {
   "codemirror_mode": {
    "name": "ipython",
    "version": 3
   },
   "file_extension": ".py",
   "mimetype": "text/x-python",
   "name": "python",
   "nbconvert_exporter": "python",
   "pygments_lexer": "ipython3",
   "version": "3.9.7"
  }
 },
 "nbformat": 4,
 "nbformat_minor": 5
}
